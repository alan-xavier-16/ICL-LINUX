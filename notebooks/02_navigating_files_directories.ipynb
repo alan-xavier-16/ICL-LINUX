{
 "cells": [
  {
   "cell_type": "markdown",
   "metadata": {},
   "source": [
    "# Episode 2 - Navigating Files and Directories\n",
    "This notebook is based on a snapshot of [Episode 2](https://kmichali.github.io/SC-shell-novice/02-filedir/index.html) of the [Unix Shell lesson](https://kmichali.github.io/SC-shell-novice/) from the [Software Carpentry](https://software-carpentry.org). The original material has more detail.\n",
    "\n",
    "### Questions:\n",
    "- How can I move around on my computer?\n",
    "- How can I see what files and directories I have?\n",
    "- How can I specify the location of a file or directory on my computer?\n",
    "\n",
    "\n",
    "### Objectives:\n",
    "- Translate an absolute path into a relative path and vice versa.\n",
    "- Construct absolute and relative paths that identify specific files and directories.\n",
    "- Use options and arguments to change the behaviour of a shell command\n",
    "\n",
    "<hr style=\"border: solid 1px red; margin-top: 1.5% \">\n",
    "\n",
    "### Video\n",
    "Learn with video:\n",
    "- [part 1](https://imperial.cloud.panopto.eu/Panopto/Pages/Viewer.aspx?id=4c78e22d-2b22-4464-b9fa-abd500fbd13d)\n",
    "- [part 2](https://imperial.cloud.panopto.eu/Panopto/Pages/Viewer.aspx?id=f57ed93e-e0fe-4918-8182-abd501029064)\n",
    "\n",
    "\n",
    "### Practice data in Google Colab\n",
    "If you are viewing this notebook in Colab and have saved it in your Drive (\"File\"->\"Save a copy in Drive\"), run the cell below to download practice data.\n",
    "\n"
   ]
  },
  {
   "cell_type": "code",
   "execution_count": 1,
   "metadata": {},
   "outputs": [
    {
     "name": "stdout",
     "output_type": "stream",
     "text": [
      "data already exists\n"
     ]
    }
   ],
   "source": [
    "%%bash\n",
    "[ -e data-shell ] && echo \"data already exists\" || { wget https://kmichali.github.io/SC-shell-novice/data/data-shell.zip; unzip data-shell.zip; } "
   ]
  },
  {
   "cell_type": "markdown",
   "metadata": {},
   "source": [
    "<hr style=\"border: solid 1px red; margin-top: 1.5% \">"
   ]
  },
  {
   "cell_type": "markdown",
   "metadata": {},
   "source": [
    "In this episode, we will learn to move around the file system and to inspect a directory content.\n",
    "\n",
    "First let's find out where we are by running a command called **`pwd`**\n",
    "(which stands for 'print working directory'). Directories are like *places* - at any time\n",
    "while we are using the shell we are in exactly one place, called\n",
    "our **current working directory**.\n",
    "\n",
    "**Note**: You can practice commands in the command cells below.  They have `In []` symbol on the left and every cell has to start with a \"magic\" command `%%bash`.  Execute each cell by pressing Shift+Enter together.  \n",
    "\n",
    "One the command line, %%bash is not used at all, it is only understood by Jupyter Notebooks.  We will start practising in notebooks because they provide an excellent learning environment.  Later, we will move to the command line."
   ]
  },
  {
   "cell_type": "code",
   "execution_count": 3,
   "metadata": {},
   "outputs": [
    {
     "name": "stdout",
     "output_type": "stream",
     "text": [
      "/c/Users/aax23/OneDrive - Imperial College London/Desktop/RCDS-comm-line/notebooks\n"
     ]
    }
   ],
   "source": [
    "%%bash\n",
    "pwd"
   ]
  },
  {
   "cell_type": "markdown",
   "metadata": {},
   "source": [
    "## Home directory\n",
    "<hr style=\"border: solid 1px gray; margin-top: 1.5% \">\n",
    "\n",
    "The home directory path will look different on different operating systems. For a user named Nelle on Linux it may look like **`/home/nelle`**, on a Mac **`/Users/nelle`** and on Windows it will be similar to **`C:\\Documents and Settings\\nelle`**.\n",
    "\n",
    "When you open a terminal on Linux or a Mac, your current working directory is set to home directory."
   ]
  },
  {
   "cell_type": "markdown",
   "metadata": {
    "collapsed": true
   },
   "source": [
    "## File system\n",
    "<hr style=\"border: solid 1px gray; margin-top: 1.5% \">\n",
    "\n",
    "A Linux-like file system is a tree with the **root directory** (**/**) at the top.  Below are system folders and a folder for the users (nelle, larry and imhotep in the figure below).\n",
    "\n",
    "\n",
    "![Home Directories](../fig/home-directories.svg)\n",
    "\n",
    "\n",
    "## Path\n",
    "<hr style=\"border: solid 1px gray; margin-top: 1.5% \">\n",
    "\n",
    "For example, the path to Nelle's home directory is **`/Users/nelle`**.\n",
    "- **absolute** path always starts at the top of the file system and always starts with the leading slash (e.g., **`/Users/nelle`**).\n",
    "- **relative** path starts from the current working directory - if you are in **`/Users/nelle`**, the relative path to Larry's home directory is **`../larry`** (two dots in a path always indicate \"go one level up\")."
   ]
  },
  {
   "cell_type": "markdown",
   "metadata": {},
   "source": [
    "## List files and directories\n",
    "<hr style=\"border: solid 1px gray; margin-top: 1.5% \">\n",
    "\n",
    "The command **`ls`** (short for list) displays files and directories in the current working directory. "
   ]
  },
  {
   "cell_type": "code",
   "execution_count": 4,
   "metadata": {},
   "outputs": [
    {
     "name": "stdout",
     "output_type": "stream",
     "text": [
      "01_introduction_and_setup.ipynb\n",
      "02_navigating_files_directories.ipynb\n",
      "03_working_files_directories.ipynb\n",
      "04_pipes_filters.ipynb\n",
      "05_for_loops.ipynb\n",
      "06_shell_scripts.ipynb\n",
      "07_finding_things.ipynb\n",
      "08_Nelles_script.ipynb\n",
      "data-shell\n"
     ]
    }
   ],
   "source": [
    "%%bash\n",
    "ls"
   ]
  },
  {
   "cell_type": "markdown",
   "metadata": {},
   "source": [
    "## Command flags\n",
    "<hr style=\"border: solid 1px gray; margin-top: 1.5% \">\n",
    "\n",
    "We can modify an output of a command by adding a flag (or a switch).  For example, **`ls -F`** will add a slash to directory names.\n",
    "\n",
    "The general systax of a unix command is: **`command space -flag(s) space path`**\n",
    "\n",
    "A ***flag can be a single letter or a word***. Single letters are preceded by a single dash (e.g., ls -F) and words are preceded by two dashes (e.g., ls --help)."
   ]
  },
  {
   "cell_type": "code",
   "execution_count": 5,
   "metadata": {},
   "outputs": [
    {
     "name": "stdout",
     "output_type": "stream",
     "text": [
      "01_introduction_and_setup.ipynb\n",
      "02_navigating_files_directories.ipynb\n",
      "03_working_files_directories.ipynb\n",
      "04_pipes_filters.ipynb\n",
      "05_for_loops.ipynb\n",
      "06_shell_scripts.ipynb\n",
      "07_finding_things.ipynb\n",
      "08_Nelles_script.ipynb\n",
      "data-shell/\n"
     ]
    }
   ],
   "source": [
    "%%bash\n",
    "ls -F"
   ]
  },
  {
   "cell_type": "markdown",
   "metadata": {},
   "source": [
    "## Getting help\n",
    "<hr style=\"border: solid 1px gray; margin-top: 1.5% \">\n",
    "\n",
    "Linux commands usually have many flags.  To see the list, type either **`man ls`** or **`ls --help`** (one of them should work depending on your system).  The **`man`** (short for manual) works for the majority of commands.\n",
    "\n",
    "Note: On some systems, you have press the letter q to get the prompt back."
   ]
  },
  {
   "cell_type": "code",
   "execution_count": 7,
   "metadata": {},
   "outputs": [
    {
     "name": "stdout",
     "output_type": "stream",
     "text": [
      "Usage: ls [OPTION]... [FILE]...\n",
      "List information about the FILEs (the current directory by default).\n",
      "Sort entries alphabetically if none of -cftuvSUX nor --sort is specified.\n",
      "\n",
      "Mandatory arguments to long options are mandatory for short options too.\n",
      "  -a, --all                  do not ignore entries starting with .\n",
      "  -A, --almost-all           do not list implied . and ..\n",
      "      --author               with -l, print the author of each file\n",
      "  -b, --escape               print C-style escapes for nongraphic characters\n",
      "      --block-size=SIZE      with -l, scale sizes by SIZE when printing them;\n"
     ]
    },
    {
     "name": "stdout",
     "output_type": "stream",
     "text": [
      "                               e.g., '--block-size=M'; see SIZE format below\n",
      "  -B, --ignore-backups       do not list implied entries ending with ~\n",
      "  -c                         with -lt: sort by, and show, ctime (time of last\n",
      "                               modification of file status information);\n",
      "                               with -l: show ctime and sort by name;\n",
      "                               otherwise: sort by ctime, newest first\n",
      "  -C                         list entries by columns\n",
      "      --color[=WHEN]         colorize the output; WHEN can be 'always' (default\n",
      "                               if omitted), 'auto', or 'never'; more info below\n",
      "  -d, --directory            list directories themselves, not their contents\n",
      "  -D, --dired                generate output designed for Emacs' dired mode\n",
      "  -f                         do not sort, enable -aU, disable -ls --color\n",
      "  -F, --classify             append indicator (one of */=>@|) to entries\n",
      "      --file-type            likewise, except do not append '*'\n",
      "      --format=WORD          across -x, commas -m, horizontal -x, long -l,\n",
      "                               single-column -1, verbose -l, vertical -C\n",
      "      --full-time            like -l --time-style=full-iso\n",
      "  -g                         like -l, but do not list owner\n",
      "      --group-directories-first\n",
      "                             group directories before files;\n",
      "                               can be augmented with a --sort option, but any\n",
      "                               use of --sort=none (-U) disables grouping\n",
      "  -G, --no-group             in a long listing, don't print group names\n",
      "  -h, --human-readable       with -l and -s, print sizes like 1K 234M 2G etc.\n",
      "      --si                   likewise, but use powers of 1000 not 1024\n",
      "  -H, --dereference-command-line\n",
      "                             follow symbolic links listed on the command line\n",
      "      --dereference-command-line-symlink-to-dir\n",
      "                             follow each command line symbolic link\n",
      "                               that points to a directory\n",
      "      --hide=PATTERN         do not list implied entries matching shell PATTERN\n",
      "                               (overridden by -a or -A)\n",
      "      --hyperlink[=WHEN]     hyperlink file names; WHEN can be 'always'\n",
      "                               (default if omitted), 'auto', or 'never'\n",
      "      --indicator-style=WORD  append indicator with style WORD to entry names:\n",
      "                               none (default), slash (-p),\n",
      "                               file-type (--file-type), classify (-F)\n",
      "  -i, --inode                print the index number of each file\n",
      "  -I, --ignore=PATTERN       do not list implied entries matching shell PATTERN\n",
      "  -k, --kibibytes            default to 1024-byte blocks for disk usage;\n",
      "                               used only with -s and per directory totals\n",
      "  -l                         use a long listing format\n",
      "  -L, --dereference          when showing file information for a symbolic\n",
      "                               link, show information for the file the link\n",
      "                               references rather than for the link itself\n",
      "  -m                         fill width with a comma separated list of entries\n",
      "  -n, --numeric-uid-gid      like -l, but list numeric user and group IDs\n",
      "  -N, --literal              print entry names without quoting\n",
      "  -o                         like -l, but do not list group information\n",
      "  -p, --indicator-style=slash\n",
      "                             append / indicator to directories\n",
      "  -q, --hide-control-chars   print ? instead of nongraphic characters\n",
      "      --show-control-chars   show nongraphic characters as-is (the default,\n",
      "                               unless program is 'ls' and output is a terminal)\n",
      "  -Q, --quote-name           enclose entry names in double quotes\n",
      "      --quoting-style=WORD   use quoting style WORD for entry names:\n",
      "                               literal, locale, shell, shell-always,\n",
      "                               shell-escape, shell-escape-always, c, escape\n",
      "                               (overrides QUOTING_STYLE environment variable)\n",
      "  -r, --reverse              reverse order while sorting\n",
      "  -R, --recursive            list subdirectories recursively\n",
      "  -s, --size                 print the allocated size of each file, in blocks\n",
      "  -S                         sort by file size, largest first\n",
      "      --sort=WORD            sort by WORD instead of name: none (-U), size (-S),\n",
      "                               time (-t), version (-v), extension (-X)\n",
      "      --time=WORD            change the default of using modification times;\n",
      "                               access time (-u): atime, access, use;\n",
      "                               change time (-c): ctime, status;\n",
      "                               birth time: birth, creation;\n",
      "                             with -l, WORD determines which time to show;\n",
      "                             with --sort=time, sort by WORD (newest first)\n",
      "      --time-style=TIME_STYLE  time/date format with -l; see TIME_STYLE below\n",
      "  -t                         sort by time, newest first; see --time\n",
      "  -T, --tabsize=COLS         assume tab stops at each COLS instead of 8\n",
      "  -u                         with -lt: sort by, and show, access time;\n",
      "                               with -l: show access time and sort by name;\n",
      "                               otherwise: sort by access time, newest first\n",
      "  -U                         do not sort; list entries in directory order\n",
      "  -v                         natural sort of (version) numbers within text\n",
      "  -w, --width=COLS           set output width to COLS.  0 means no limit\n",
      "  -x                         list entries by lines instead of by columns\n",
      "  -X                         sort alphabetically by entry extension\n",
      "  -Z, --context              print any security context of each file\n",
      "  -1                         list one file per line.  Avoid '\\n' with -q or -b\n",
      "      --append-exe           append .exe if cygwin magic was needed\n",
      "      --help     display this help and exit\n",
      "      --version  output version information and exit\n",
      "\n",
      "The SIZE argument is an integer and optional unit (example: 10K is 10*1024).\n",
      "Units are K,M,G,T,P,E,Z,Y (powers of 1024) or KB,MB,... (powers of 1000).\n",
      "Binary prefixes can be used, too: KiB=K, MiB=M, and so on.\n",
      "\n",
      "The TIME_STYLE argument can be full-iso, long-iso, iso, locale, or +FORMAT.\n",
      "FORMAT is interpreted like in date(1).  If FORMAT is FORMAT1<newline>FORMAT2,\n",
      "then FORMAT1 applies to non-recent files and FORMAT2 to recent files.\n",
      "TIME_STYLE prefixed with 'posix-' takes effect only outside the POSIX locale.\n",
      "Also the TIME_STYLE environment variable sets the default style to use.\n",
      "\n",
      "Using color to distinguish file types is disabled both by default and\n",
      "with --color=never.  With --color=auto, ls emits color codes only when\n",
      "standard output is connected to a terminal.  The LS_COLORS environment\n",
      "variable can change the settings.  Use the dircolors command to set it.\n",
      "\n",
      "Exit status:\n",
      " 0  if OK,\n",
      " 1  if minor problems (e.g., cannot access subdirectory),\n",
      " 2  if serious trouble (e.g., cannot access command-line argument).\n",
      "\n",
      "GNU coreutils online help: <https://www.gnu.org/software/coreutils/>\n",
      "Report any translation bugs to <https://translationproject.org/team/>\n",
      "Full documentation <https://www.gnu.org/software/coreutils/ls>\n",
      "or available locally via: info '(coreutils) ls invocation'\n"
     ]
    }
   ],
   "source": [
    "%%bash\n",
    "# man ls\n",
    "ls --help"
   ]
  },
  {
   "cell_type": "markdown",
   "metadata": {},
   "source": [
    "## Unsupported command flags\n",
    "\n",
    "Not all letters have a meaning. If you try to use them, the shell will produce an error message.  \n",
    "\n",
    "On similar note, the same letter may mean different things to different commands."
   ]
  },
  {
   "cell_type": "code",
   "execution_count": 8,
   "metadata": {},
   "outputs": [
    {
     "name": "stderr",
     "output_type": "stream",
     "text": [
      "ls: unknown option -- j\n",
      "Try 'ls --help' for more information.\n"
     ]
    },
    {
     "ename": "CalledProcessError",
     "evalue": "Command 'b'ls -j\\n'' returned non-zero exit status 2.",
     "output_type": "error",
     "traceback": [
      "\u001b[1;31m---------------------------------------------------------------------------\u001b[0m",
      "\u001b[1;31mCalledProcessError\u001b[0m                        Traceback (most recent call last)",
      "Cell \u001b[1;32mIn[8], line 1\u001b[0m\n\u001b[1;32m----> 1\u001b[0m \u001b[43mget_ipython\u001b[49m\u001b[43m(\u001b[49m\u001b[43m)\u001b[49m\u001b[38;5;241;43m.\u001b[39;49m\u001b[43mrun_cell_magic\u001b[49m\u001b[43m(\u001b[49m\u001b[38;5;124;43m'\u001b[39;49m\u001b[38;5;124;43mbash\u001b[39;49m\u001b[38;5;124;43m'\u001b[39;49m\u001b[43m,\u001b[49m\u001b[43m \u001b[49m\u001b[38;5;124;43m'\u001b[39;49m\u001b[38;5;124;43m'\u001b[39;49m\u001b[43m,\u001b[49m\u001b[43m \u001b[49m\u001b[38;5;124;43m'\u001b[39;49m\u001b[38;5;124;43mls -j\u001b[39;49m\u001b[38;5;130;43;01m\\n\u001b[39;49;00m\u001b[38;5;124;43m'\u001b[39;49m\u001b[43m)\u001b[49m\n",
      "File \u001b[1;32mc:\\Users\\aax23\\OneDrive - Imperial College London\\Desktop\\RCDS-comm-line\\.linux\\Lib\\site-packages\\IPython\\core\\interactiveshell.py:2517\u001b[0m, in \u001b[0;36mInteractiveShell.run_cell_magic\u001b[1;34m(self, magic_name, line, cell)\u001b[0m\n\u001b[0;32m   2515\u001b[0m \u001b[38;5;28;01mwith\u001b[39;00m \u001b[38;5;28mself\u001b[39m\u001b[38;5;241m.\u001b[39mbuiltin_trap:\n\u001b[0;32m   2516\u001b[0m     args \u001b[38;5;241m=\u001b[39m (magic_arg_s, cell)\n\u001b[1;32m-> 2517\u001b[0m     result \u001b[38;5;241m=\u001b[39m \u001b[43mfn\u001b[49m\u001b[43m(\u001b[49m\u001b[38;5;241;43m*\u001b[39;49m\u001b[43margs\u001b[49m\u001b[43m,\u001b[49m\u001b[43m \u001b[49m\u001b[38;5;241;43m*\u001b[39;49m\u001b[38;5;241;43m*\u001b[39;49m\u001b[43mkwargs\u001b[49m\u001b[43m)\u001b[49m\n\u001b[0;32m   2519\u001b[0m \u001b[38;5;66;03m# The code below prevents the output from being displayed\u001b[39;00m\n\u001b[0;32m   2520\u001b[0m \u001b[38;5;66;03m# when using magics with decorator @output_can_be_silenced\u001b[39;00m\n\u001b[0;32m   2521\u001b[0m \u001b[38;5;66;03m# when the last Python token in the expression is a ';'.\u001b[39;00m\n\u001b[0;32m   2522\u001b[0m \u001b[38;5;28;01mif\u001b[39;00m \u001b[38;5;28mgetattr\u001b[39m(fn, magic\u001b[38;5;241m.\u001b[39mMAGIC_OUTPUT_CAN_BE_SILENCED, \u001b[38;5;28;01mFalse\u001b[39;00m):\n",
      "File \u001b[1;32mc:\\Users\\aax23\\OneDrive - Imperial College London\\Desktop\\RCDS-comm-line\\.linux\\Lib\\site-packages\\IPython\\core\\magics\\script.py:154\u001b[0m, in \u001b[0;36mScriptMagics._make_script_magic.<locals>.named_script_magic\u001b[1;34m(line, cell)\u001b[0m\n\u001b[0;32m    152\u001b[0m \u001b[38;5;28;01melse\u001b[39;00m:\n\u001b[0;32m    153\u001b[0m     line \u001b[38;5;241m=\u001b[39m script\n\u001b[1;32m--> 154\u001b[0m \u001b[38;5;28;01mreturn\u001b[39;00m \u001b[38;5;28;43mself\u001b[39;49m\u001b[38;5;241;43m.\u001b[39;49m\u001b[43mshebang\u001b[49m\u001b[43m(\u001b[49m\u001b[43mline\u001b[49m\u001b[43m,\u001b[49m\u001b[43m \u001b[49m\u001b[43mcell\u001b[49m\u001b[43m)\u001b[49m\n",
      "File \u001b[1;32mc:\\Users\\aax23\\OneDrive - Imperial College London\\Desktop\\RCDS-comm-line\\.linux\\Lib\\site-packages\\IPython\\core\\magics\\script.py:314\u001b[0m, in \u001b[0;36mScriptMagics.shebang\u001b[1;34m(self, line, cell)\u001b[0m\n\u001b[0;32m    309\u001b[0m \u001b[38;5;28;01mif\u001b[39;00m args\u001b[38;5;241m.\u001b[39mraise_error \u001b[38;5;129;01mand\u001b[39;00m p\u001b[38;5;241m.\u001b[39mreturncode \u001b[38;5;241m!=\u001b[39m \u001b[38;5;241m0\u001b[39m:\n\u001b[0;32m    310\u001b[0m     \u001b[38;5;66;03m# If we get here and p.returncode is still None, we must have\u001b[39;00m\n\u001b[0;32m    311\u001b[0m     \u001b[38;5;66;03m# killed it but not yet seen its return code. We don't wait for it,\u001b[39;00m\n\u001b[0;32m    312\u001b[0m     \u001b[38;5;66;03m# in case it's stuck in uninterruptible sleep. -9 = SIGKILL\u001b[39;00m\n\u001b[0;32m    313\u001b[0m     rc \u001b[38;5;241m=\u001b[39m p\u001b[38;5;241m.\u001b[39mreturncode \u001b[38;5;129;01mor\u001b[39;00m \u001b[38;5;241m-\u001b[39m\u001b[38;5;241m9\u001b[39m\n\u001b[1;32m--> 314\u001b[0m     \u001b[38;5;28;01mraise\u001b[39;00m CalledProcessError(rc, cell)\n",
      "\u001b[1;31mCalledProcessError\u001b[0m: Command 'b'ls -j\\n'' returned non-zero exit status 2."
     ]
    }
   ],
   "source": [
    "%%bash \n",
    "ls -j"
   ]
  },
  {
   "cell_type": "markdown",
   "metadata": {},
   "source": [
    "## More ls flags\n",
    "\n",
    "Everyone remembers few flags for the most frequent commands.  Here are the useful ones for ls:\n",
    "- **`ls -a`** shows hidden files\n",
    "- **`ls -l`** shows long format (permissions, ownership, size, modification date)\n",
    "- **`ls -t`** sorts files by time stamps\n",
    "- **`ls -h`** adds units to file size\n",
    "\n",
    "One can combine flags, for example **`ls -lrt`** will list files and directories by time in reverse order.  Very useful if you want to see the newest files at the bottom of the listing.\n"
   ]
  },
  {
   "cell_type": "markdown",
   "metadata": {},
   "source": [
    "## Practice\n",
    "Try **`ls`** with some flags below:"
   ]
  },
  {
   "cell_type": "code",
   "execution_count": null,
   "metadata": {},
   "outputs": [],
   "source": [
    "%%bash\n",
    "# your command go here\n"
   ]
  },
  {
   "cell_type": "markdown",
   "metadata": {},
   "source": [
    "## List content of directories other than the current one\n",
    "\n",
    "If the **`ls`** command contains no path, it will show the current directory. It will also work if you specify a different directory.  For example, **`ls -l /Users/larry`** will show the content of Larry's home directory.\n",
    "\n",
    "## Special symbols for the current directory and for the directory directly above\n",
    "<hr style=\"border: solid 1px gray; margin-top: 1.5% \">\n",
    "\n",
    "If you type \"**`ls .`**\", you will get listings for the current directory (\"**`ls ./`**\" means the same). The symbol \"***.***\" has the same meaning, \"the current directory\", for many Linux commands.  Similarly, using two dots \"***..***\" means directory one level up."
   ]
  },
  {
   "cell_type": "markdown",
   "metadata": {},
   "source": [
    "## Changing the current directory\n",
    "<hr style=\"border: solid 1px gray; margin-top: 1.5% \">\n",
    "\n",
    "The command **`cd`** (change directory) followed by a path will change your current working directory to the location specified by the path.\n",
    "\n",
    "If you have not executed **`cd`** in this notebook, your current directory should be called \"notebooks\". Execute **`cd data-shell`** in the cell below and your current directory will be \"data-shell\" that holds practice files and directories.\n",
    "\n",
    "**Note:** In Jupyter Notebooks with %%bash, the cd command applies only to the current cell. If the current directory is to persist in the cells below, skip %%bash and use a single cd command per cell.  For now, we'll keep using %%bash."
   ]
  },
  {
   "cell_type": "code",
   "execution_count": 9,
   "metadata": {},
   "outputs": [
    {
     "name": "stdout",
     "output_type": "stream",
     "text": [
      "/c/Users/aax23/OneDrive - Imperial College London/Desktop/RCDS-comm-line/notebooks/data-shell\n"
     ]
    }
   ],
   "source": [
    "%%bash\n",
    "cd data-shell\n",
    "pwd"
   ]
  },
  {
   "cell_type": "markdown",
   "metadata": {},
   "source": [
    "Practice chaging directories in the cells below.  Cd into the directory molecules and back to data-shell."
   ]
  },
  {
   "cell_type": "code",
   "execution_count": 10,
   "metadata": {},
   "outputs": [
    {
     "name": "stdout",
     "output_type": "stream",
     "text": [
      "/c/Users/aax23/OneDrive - Imperial College London/Desktop/RCDS-comm-line/notebooks\n",
      "/c/Users/aax23/OneDrive - Imperial College London/Desktop/RCDS-comm-line/notebooks/data-shell\n",
      "/c/Users/aax23/OneDrive - Imperial College London/Desktop/RCDS-comm-line/notebooks/data-shell/molecules\n",
      "/c/Users/aax23/OneDrive - Imperial College London/Desktop/RCDS-comm-line/notebooks/data-shell\n"
     ]
    }
   ],
   "source": [
    "%%bash\n",
    "pwd\n",
    "cd data-shell\n",
    "pwd\n",
    "cd molecules\n",
    "pwd\n",
    "cd ../\n",
    "pwd"
   ]
  },
  {
   "cell_type": "markdown",
   "metadata": {},
   "source": [
    "## Useful shortcuts for the cd command\n",
    "<hr style=\"border: solid 1px gray; margin-top: 1.5% \">\n",
    "\n",
    "- If you type **`cd`** with no directory name, you will find yourself in your home directory. \n",
    "- If you type **`cd -`**, you will undo the last **`cd`**.\n",
    "- The symbol **`~`** stands for home directory, for example, if your home directory is **`/Users/bob`** then the command **`cd ~/thesis`** means \"change current working directory to **`/Users/bob/thesis`**\"."
   ]
  },
  {
   "cell_type": "code",
   "execution_count": 11,
   "metadata": {
    "scrolled": true
   },
   "outputs": [
    {
     "name": "stdout",
     "output_type": "stream",
     "text": [
      "/c/Users/aax23\n",
      "/c/Users/aax23/OneDrive - Imperial College London/Desktop/RCDS-comm-line/notebooks\n",
      "/c/Users/aax23/OneDrive - Imperial College London/Desktop/RCDS-comm-line/notebooks\n"
     ]
    }
   ],
   "source": [
    "%%bash\n",
    "cd\n",
    "pwd\n",
    "cd -\n",
    "pwd"
   ]
  },
  {
   "cell_type": "markdown",
   "metadata": {},
   "source": [
    "## Exercise 1\n",
    "<hr style=\"border: solid 1px gray; margin-top: 1.5% \">\n",
    "\n",
    "\n",
    "Starting from **`/Users/amanda/data`**, which of the following commands could Amanda use to navigate to her home directory, which is **`/Users/amanda`**?\n",
    "\n",
    "1. **`cd .`**\n",
    "1. **`cd /`**\n",
    "1. **`cd /home/amanda`**\n",
    "1. **`cd ../..`**\n",
    "1. **`cd ~`**\n",
    "1. **`cd home`**\n",
    "1. **`cd ~/data/..`**\n",
    "1. **`cd`**\n",
    "1. **`cd ..`**\n",
    "\n",
    "Solution can be found at the end of this notebook."
   ]
  },
  {
   "cell_type": "markdown",
   "metadata": {},
   "source": [
    "<hr style=\"border: solid 1px red; margin-top: 1.5% \">\n",
    "\n",
    "## Keypoints:\n",
    "\n",
    "- The file system is responsible for managing information on the disk.\n",
    "- Information is stored in files, which are stored in directories (folders).\n",
    "- Directories can also store other directories, which forms a directory tree.\n",
    "- **`cd path`** changes the current working directory.\n",
    "- **`ls path`** prints a listing of a specific file or directory; **`ls`** on its own lists the current working directory.\n",
    "- **`pwd`** prints the user's current working directory.\n",
    "- **`/`** on its own is the root directory of the whole file system.\n",
    "- A relative path specifies a location starting from the current location.\n",
    "- An absolute path specifies a location from the root of the file system.\n",
    "- Directory names in a path are separated with **`/`** on Unix, but **`\\`** on Windows.\n",
    "- **`..`** means 'the directory above the current one'; **`.`** on its own means 'the current directory'."
   ]
  },
  {
   "cell_type": "markdown",
   "metadata": {},
   "source": [
    "<hr style=\"border: solid 1px gray; margin-top: 1.5% \">\n",
    "\n",
    "### Solution to Exercise 1:\n",
    "    \n",
    "1. No: . stands for the current directory.\n",
    "2. No: / stands for the root directory.\n",
    "3. No: Amanda’s home directory is /Users/amanda.\n",
    "4. No: this goes up two levels, i.e. ends in /Users.\n",
    "5. Yes: ~ stands for the user’s home directory, in this case /Users/amanda.\n",
    "6. No: this would navigate into a directory home in the current directory if it exists.\n",
    "7. Yes: unnecessarily complicated, but correct.\n",
    "8. Yes: shortcut to go back to the user’s home directory.\n",
    "9. Yes: goes up one level.\n",
    "\n"
   ]
  },
  {
   "cell_type": "code",
   "execution_count": null,
   "metadata": {},
   "outputs": [],
   "source": []
  }
 ],
 "metadata": {
  "kernelspec": {
   "display_name": "Python 3",
   "language": "python",
   "name": "python3"
  },
  "language_info": {
   "codemirror_mode": {
    "name": "ipython",
    "version": 3
   },
   "file_extension": ".py",
   "mimetype": "text/x-python",
   "name": "python",
   "nbconvert_exporter": "python",
   "pygments_lexer": "ipython3",
   "version": "3.12.1"
  }
 },
 "nbformat": 4,
 "nbformat_minor": 2
}
